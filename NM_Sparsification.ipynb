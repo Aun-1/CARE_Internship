{
 "cells": [
  {
   "cell_type": "code",
   "execution_count": 1,
   "id": "87388ed1",
   "metadata": {
    "_cell_guid": "b1076dfc-b9ad-4769-8c92-a6c4dae69d19",
    "_uuid": "8f2839f25d086af736a60e9eeb907d3b93b6e0e5",
    "execution": {
     "iopub.execute_input": "2024-08-27T19:39:21.577807Z",
     "iopub.status.busy": "2024-08-27T19:39:21.576695Z",
     "iopub.status.idle": "2024-08-27T19:39:21.608467Z",
     "shell.execute_reply": "2024-08-27T19:39:21.607245Z"
    },
    "papermill": {
     "duration": 0.040292,
     "end_time": "2024-08-27T19:39:21.611603",
     "exception": false,
     "start_time": "2024-08-27T19:39:21.571311",
     "status": "completed"
    },
    "tags": []
   },
   "outputs": [
    {
     "name": "stdout",
     "output_type": "stream",
     "text": [
      "[ 0 44  2  4 99  0  9  8]\n",
      "[[   0    2    3   55    0    6   44    8]\n",
      " [   0   10   11   12    0   14   15   16]\n",
      " [   0   18   19   20    0   22   23   24]\n",
      " [   0  446   27   28    0   30   31   32]\n",
      " [2000    0   35   36    0   38   39   40]\n",
      " [   0   42   43   44    0   46   47   48]\n",
      " [   0   50   51   52 1000  444    0   56]\n",
      " [   0   58   59   60    0   62   63   64]]\n"
     ]
    }
   ],
   "source": [
    "import numpy as np\n",
    "\n",
    "class ArrayProcessor:\n",
    "    def __init__(self, bs, n, m):\n",
    "        self.bs = bs  # Block size\n",
    "        self.n = n    # Number of elements to retain\n",
    "        self.m = m    # Length of each segment\n",
    "\n",
    "    def process_array(self, x):\n",
    "        self.x = x  # Store the array in self.x\n",
    "        for i in range(len(self.x) // self.bs):  # Loop through segments of array\n",
    "            l = list(self.x[i * self.bs:(i + 1) * self.bs])\n",
    "            for _ in range(self.m - self.n):\n",
    "                min_index = l.index(min(l))  # Find index of minimum element in l\n",
    "                l[min_index] = float('inf')  # Replace the minimum element with infinity\n",
    "            \n",
    "            # Explicit loop to replace 'inf' with 0\n",
    "            for j in range(len(l)):\n",
    "                if l[j] == float('inf'):\n",
    "                    l[j] = 0\n",
    "            \n",
    "            self.x[i * self.bs:(i + 1) * self.bs] = np.array(l)  # Update the segment of the array with modified list\n",
    "        return self.x\n",
    "\n",
    "    def process_2d_array(self, w):\n",
    "        self.w = w  # Store the array in self.w\n",
    "        for row in range(self.w.shape[0]):  # Loop through each row\n",
    "            for i in range(self.w.shape[1] // self.bs):  # Loop through segments of the row\n",
    "                l = list(self.w[row, i * self.bs:(i + 1) * self.bs])  # Slice the row into segments of length n\n",
    "                for _ in range(self.m - self.n):\n",
    "                    min_index = l.index(min(l))  # Find index of minimum element in l\n",
    "                    l[min_index] = float('inf')  # Replace the minimum element with infinity\n",
    "                \n",
    "                # Explicit loop to replace 'inf' with 0\n",
    "                for j in range(len(l)):\n",
    "                    if l[j] == float('inf'):\n",
    "                        l[j] = 0\n",
    "                \n",
    "                self.w[row, i * self.bs:(i + 1) * self.bs] = np.array(l)  # Update the segment of the array with modified list\n",
    "        return self.w\n",
    "\n",
    "# Example usage:\n",
    "bs = 4  # Block size\n",
    "n = 3  # Number of elements to retain\n",
    "m = 4   # Length of each segment\n",
    "\n",
    "x = np.array([1, 44, 2, 4, 99, 6, 9, 8])  # Input array\n",
    "w = np.array([\n",
    "    [1, 2, 3, 55, 5, 6, 44, 8],\n",
    "    [9, 10, 11, 12, 13, 14, 15, 16],\n",
    "    [17, 18, 19, 20, 21, 22, 23, 24],\n",
    "    [25, 446, 27, 28, 29, 30, 31, 32],\n",
    "    [2000, 34, 35, 36, 37, 38, 39, 40],\n",
    "    [41, 42, 43, 44, 45, 46, 47, 48],\n",
    "    [49, 50, 51, 52, 1000, 444, 55, 56],\n",
    "    [57, 58, 59, 60, 61, 62, 63, 64]\n",
    "])\n",
    "\n",
    "processor = ArrayProcessor(bs, n, m)\n",
    "x_processed = processor.process_array(x)\n",
    "w_processed = processor.process_2d_array(w)\n",
    "\n",
    "print(x_processed)\n",
    "print(w_processed)"
   ]
  }
 ],
 "metadata": {
  "kaggle": {
   "accelerator": "none",
   "dataSources": [],
   "dockerImageVersionId": 30761,
   "isGpuEnabled": false,
   "isInternetEnabled": true,
   "language": "python",
   "sourceType": "notebook"
  },
  "kernelspec": {
   "display_name": "Python 3",
   "language": "python",
   "name": "python3"
  },
  "language_info": {
   "codemirror_mode": {
    "name": "ipython",
    "version": 3
   },
   "file_extension": ".py",
   "mimetype": "text/x-python",
   "name": "python",
   "nbconvert_exporter": "python",
   "pygments_lexer": "ipython3",
   "version": "3.10.14"
  },
  "papermill": {
   "default_parameters": {},
   "duration": 4.038887,
   "end_time": "2024-08-27T19:39:22.038427",
   "environment_variables": {},
   "exception": null,
   "input_path": "__notebook__.ipynb",
   "output_path": "__notebook__.ipynb",
   "parameters": {},
   "start_time": "2024-08-27T19:39:17.999540",
   "version": "2.6.0"
  }
 },
 "nbformat": 4,
 "nbformat_minor": 5
}
