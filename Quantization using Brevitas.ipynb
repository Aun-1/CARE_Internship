{
 "cells": [
  {
   "cell_type": "code",
   "execution_count": 1,
   "id": "5971ac9e",
   "metadata": {
    "execution": {
     "iopub.execute_input": "2024-08-01T11:57:46.245389Z",
     "iopub.status.busy": "2024-08-01T11:57:46.244965Z",
     "iopub.status.idle": "2024-08-01T11:58:04.466499Z",
     "shell.execute_reply": "2024-08-01T11:58:04.465224Z"
    },
    "papermill": {
     "duration": 18.231191,
     "end_time": "2024-08-01T11:58:04.469391",
     "exception": false,
     "start_time": "2024-08-01T11:57:46.238200",
     "status": "completed"
    },
    "tags": []
   },
   "outputs": [
    {
     "name": "stdout",
     "output_type": "stream",
     "text": [
      "Collecting brevitas\r\n",
      "  Downloading brevitas-0.10.3-py3-none-any.whl.metadata (7.8 kB)\r\n",
      "Collecting dependencies==2.0.1 (from brevitas)\r\n",
      "  Downloading dependencies-2.0.1-py2.py3-none-any.whl.metadata (3.9 kB)\r\n",
      "Requirement already satisfied: numpy<=1.26.4 in /opt/conda/lib/python3.10/site-packages (from brevitas) (1.26.4)\r\n",
      "Requirement already satisfied: packaging in /opt/conda/lib/python3.10/site-packages (from brevitas) (21.3)\r\n",
      "Requirement already satisfied: setuptools<70.0 in /opt/conda/lib/python3.10/site-packages (from brevitas) (69.0.3)\r\n",
      "Requirement already satisfied: sympy in /opt/conda/lib/python3.10/site-packages (from brevitas) (1.13.0)\r\n",
      "Requirement already satisfied: torch>=1.9.1 in /opt/conda/lib/python3.10/site-packages (from brevitas) (2.1.2+cpu)\r\n",
      "Requirement already satisfied: typing-extensions>=3.7.4 in /opt/conda/lib/python3.10/site-packages (from brevitas) (4.9.0)\r\n",
      "Collecting unfoldNd (from brevitas)\r\n",
      "  Downloading unfoldNd-0.2.2-py3-none-any.whl.metadata (1.5 kB)\r\n",
      "Requirement already satisfied: filelock in /opt/conda/lib/python3.10/site-packages (from torch>=1.9.1->brevitas) (3.13.1)\r\n",
      "Requirement already satisfied: networkx in /opt/conda/lib/python3.10/site-packages (from torch>=1.9.1->brevitas) (3.2.1)\r\n",
      "Requirement already satisfied: jinja2 in /opt/conda/lib/python3.10/site-packages (from torch>=1.9.1->brevitas) (3.1.2)\r\n",
      "Requirement already satisfied: fsspec in /opt/conda/lib/python3.10/site-packages (from torch>=1.9.1->brevitas) (2024.5.0)\r\n",
      "Requirement already satisfied: pyparsing!=3.0.5,>=2.0.2 in /opt/conda/lib/python3.10/site-packages (from packaging->brevitas) (3.1.1)\r\n",
      "Requirement already satisfied: mpmath<1.4,>=1.1.0 in /opt/conda/lib/python3.10/site-packages (from sympy->brevitas) (1.3.0)\r\n",
      "Requirement already satisfied: MarkupSafe>=2.0 in /opt/conda/lib/python3.10/site-packages (from jinja2->torch>=1.9.1->brevitas) (2.1.3)\r\n",
      "Downloading brevitas-0.10.3-py3-none-any.whl (626 kB)\r\n",
      "\u001b[2K   \u001b[90m━━━━━━━━━━━━━━━━━━━━━━━━━━━━━━━━━━━━━━━━\u001b[0m \u001b[32m626.6/626.6 kB\u001b[0m \u001b[31m3.7 MB/s\u001b[0m eta \u001b[36m0:00:00\u001b[0m\r\n",
      "\u001b[?25hDownloading dependencies-2.0.1-py2.py3-none-any.whl (15 kB)\r\n",
      "Downloading unfoldNd-0.2.2-py3-none-any.whl (16 kB)\r\n",
      "Installing collected packages: dependencies, unfoldNd, brevitas\r\n",
      "Successfully installed brevitas-0.10.3 dependencies-2.0.1 unfoldNd-0.2.2\r\n"
     ]
    }
   ],
   "source": [
    "!pip install brevitas"
   ]
  },
  {
   "cell_type": "code",
   "execution_count": 2,
   "id": "ea814eca",
   "metadata": {
    "execution": {
     "iopub.execute_input": "2024-08-01T11:58:04.484162Z",
     "iopub.status.busy": "2024-08-01T11:58:04.483746Z",
     "iopub.status.idle": "2024-08-01T11:58:15.033759Z",
     "shell.execute_reply": "2024-08-01T11:58:15.032175Z"
    },
    "papermill": {
     "duration": 10.560921,
     "end_time": "2024-08-01T11:58:15.036821",
     "exception": false,
     "start_time": "2024-08-01T11:58:04.475900",
     "status": "completed"
    },
    "tags": []
   },
   "outputs": [
    {
     "data": {
      "text/html": [
       "        <script type=\"text/javascript\">\n",
       "        window.PlotlyConfig = {MathJaxConfig: 'local'};\n",
       "        if (window.MathJax && window.MathJax.Hub && window.MathJax.Hub.Config) {window.MathJax.Hub.Config({SVG: {font: \"STIX-Web\"}});}\n",
       "        if (typeof require !== 'undefined') {\n",
       "        require.undef(\"plotly\");\n",
       "        requirejs.config({\n",
       "            paths: {\n",
       "                'plotly': ['https://cdn.plot.ly/plotly-2.27.0.min']\n",
       "            }\n",
       "        });\n",
       "        require(['plotly'], function(Plotly) {\n",
       "            window._Plotly = Plotly;\n",
       "        });\n",
       "        }\n",
       "        </script>\n",
       "        "
      ]
     },
     "metadata": {},
     "output_type": "display_data"
    }
   ],
   "source": [
    "\n",
    "import numpy as np\n",
    "import pandas as pd\n",
    "from sklearn.model_selection import train_test_split\n",
    "from sklearn.metrics import classification_report\n",
    "import seaborn as sns\n",
    "import matplotlib.pyplot as plt\n",
    "%matplotlib inline\n",
    "import plotly.graph_objs as go\n",
    "import plotly.figure_factory as ff\n",
    "from plotly import tools\n",
    "from plotly.offline import download_plotlyjs, init_notebook_mode, plot, iplot\n",
    "init_notebook_mode(connected=True)\n",
    "\n",
    "from sklearn.metrics import confusion_matrix, ConfusionMatrixDisplay\n",
    "\n",
    "import torch\n",
    "import torch.nn as nn\n",
    "import torch.optim as optim\n",
    "import torch.nn.functional as F\n",
    "from torch.utils.data import DataLoader, Dataset, random_split\n",
    "\n",
    "import brevitas.nn as qnn\n",
    "from brevitas.quant import Int8ActPerTensorFloat, Int8WeightPerTensorFloat\n"
   ]
  },
  {
   "cell_type": "code",
   "execution_count": 3,
   "id": "79c6a182",
   "metadata": {
    "execution": {
     "iopub.execute_input": "2024-08-01T11:58:15.052316Z",
     "iopub.status.busy": "2024-08-01T11:58:15.051559Z",
     "iopub.status.idle": "2024-08-01T11:58:23.392798Z",
     "shell.execute_reply": "2024-08-01T11:58:23.391425Z"
    },
    "papermill": {
     "duration": 8.351925,
     "end_time": "2024-08-01T11:58:23.395475",
     "exception": false,
     "start_time": "2024-08-01T11:58:15.043550",
     "status": "completed"
    },
    "tags": []
   },
   "outputs": [
    {
     "name": "stdout",
     "output_type": "stream",
     "text": [
      "(10000, 785)\n",
      "(60000, 785)\n"
     ]
    }
   ],
   "source": [
    "train_file = '/kaggle/input/fashionmnist/fashion-mnist_test.csv'\n",
    "test_file = '/kaggle/input/fashionmnist/fashion-mnist_train.csv'\n",
    "\n",
    "train_data = pd.read_csv(train_file)\n",
    "test_data = pd.read_csv(test_file)\n",
    "\n",
    "IMG_ROWS = 28\n",
    "IMG_COLS = 28\n",
    "NUM_CLASSES = 10\n",
    "TEST_SIZE = 0.2\n",
    "RANDOM_STATE = 2018\n",
    "\n",
    "NO_EPOCHS = 50\n",
    "BATCH_SIZE = 128\n",
    "\n",
    "print(train_data.shape)\n",
    "print(test_data.shape)"
   ]
  },
  {
   "cell_type": "code",
   "execution_count": 4,
   "id": "583a1f36",
   "metadata": {
    "execution": {
     "iopub.execute_input": "2024-08-01T11:58:23.410537Z",
     "iopub.status.busy": "2024-08-01T11:58:23.410066Z",
     "iopub.status.idle": "2024-08-01T11:58:23.784265Z",
     "shell.execute_reply": "2024-08-01T11:58:23.783075Z"
    },
    "papermill": {
     "duration": 0.384918,
     "end_time": "2024-08-01T11:58:23.787041",
     "exception": false,
     "start_time": "2024-08-01T11:58:23.402123",
     "status": "completed"
    },
    "tags": []
   },
   "outputs": [
    {
     "name": "stdout",
     "output_type": "stream",
     "text": [
      "[[ True False False ... False False False]\n",
      " [False  True False ... False False False]\n",
      " [False False  True ... False False False]\n",
      " ...\n",
      " [False False False ... False  True False]\n",
      " [False False False ... False  True False]\n",
      " [False  True False ... False False False]]\n",
      "[[False False  True ... False False False]\n",
      " [False False False ... False False  True]\n",
      " [False False False ... False False False]\n",
      " ...\n",
      " [False False False ... False  True False]\n",
      " [False False False ... False  True False]\n",
      " [False False False ...  True False False]]\n",
      "X train is: (8000, 28, 28, 1)\n",
      "Y train is: (8000, 10)\n",
      "X validation is: (2000, 28, 28, 1)\n",
      "Y validation is: (2000, 10)\n"
     ]
    }
   ],
   "source": [
    "def preprocess_data(dataset):\n",
    "    labels_one_hot = pd.get_dummies(dataset.label).values\n",
    "    print(labels_one_hot)\n",
    "\n",
    "    num_images = dataset.shape[0]\n",
    "    pixel_values = dataset.values[:, 1:]\n",
    "    reshaped_images = pixel_values.reshape(num_images, IMG_ROWS, IMG_COLS, 1)\n",
    "    normalized_images = reshaped_images / 255.0\n",
    "\n",
    "    return normalized_images, labels_one_hot\n",
    "\n",
    "X, y = preprocess_data(train_data)\n",
    "X_test, y_test = preprocess_data(test_data)\n",
    "X_train, X_val, y_train, y_val = train_test_split(X, y, test_size=TEST_SIZE, random_state=RANDOM_STATE)\n",
    "\n",
    "print(f'X train is: {X_train.shape}')\n",
    "print(f'Y train is: {y_train.shape}')\n",
    "print(f'X validation is: {X_val.shape}')\n",
    "print(f'Y validation is: {y_val.shape}')"
   ]
  },
  {
   "cell_type": "code",
   "execution_count": 5,
   "id": "0746eab0",
   "metadata": {
    "execution": {
     "iopub.execute_input": "2024-08-01T11:58:23.803061Z",
     "iopub.status.busy": "2024-08-01T11:58:23.802164Z",
     "iopub.status.idle": "2024-08-01T11:58:23.960495Z",
     "shell.execute_reply": "2024-08-01T11:58:23.959497Z"
    },
    "papermill": {
     "duration": 0.169586,
     "end_time": "2024-08-01T11:58:23.963378",
     "exception": false,
     "start_time": "2024-08-01T11:58:23.793792",
     "status": "completed"
    },
    "tags": []
   },
   "outputs": [],
   "source": [
    "class FashionMNISTDataset(Dataset):\n",
    "    def __init__(self, images, labels):\n",
    "        self.images = torch.tensor(images, dtype=torch.float32).permute(0, 3, 1, 2)\n",
    "        self.labels = torch.tensor(labels, dtype=torch.float32)\n",
    "\n",
    "    def __len__(self):\n",
    "        return len(self.images)\n",
    "\n",
    "    def __getitem__(self, idx):\n",
    "        return self.images[idx], self.labels[idx]\n",
    "\n",
    "train_dataset = FashionMNISTDataset(X_train, y_train)\n",
    "val_dataset = FashionMNISTDataset(X_val, y_val)\n",
    "test_dataset = FashionMNISTDataset(X_test, y_test)\n",
    "\n",
    "train_loader = DataLoader(train_dataset, batch_size=BATCH_SIZE, shuffle=True)\n",
    "val_loader = DataLoader(val_dataset, batch_size=BATCH_SIZE, shuffle=False)\n",
    "test_loader = DataLoader(test_dataset, batch_size=BATCH_SIZE, shuffle=False)"
   ]
  },
  {
   "cell_type": "code",
   "execution_count": 6,
   "id": "162dbb14",
   "metadata": {
    "execution": {
     "iopub.execute_input": "2024-08-01T11:58:23.978806Z",
     "iopub.status.busy": "2024-08-01T11:58:23.978375Z",
     "iopub.status.idle": "2024-08-01T11:58:23.993365Z",
     "shell.execute_reply": "2024-08-01T11:58:23.992149Z"
    },
    "papermill": {
     "duration": 0.025846,
     "end_time": "2024-08-01T11:58:23.996100",
     "exception": false,
     "start_time": "2024-08-01T11:58:23.970254",
     "status": "completed"
    },
    "tags": []
   },
   "outputs": [],
   "source": [
    "class QuantizedCNN(nn.Module):\n",
    "    def __init__(self):\n",
    "        super(QuantizedCNN, self).__init__()\n",
    "        self.quant_input = qnn.QuantIdentity(return_quant_tensor=True)\n",
    "        \n",
    "#out_channels = 32 (chosen as a common starting point for feature extraction)\n",
    "        self.conv1 = qnn.QuantConv2d(\n",
    "            in_channels=1, out_channels=32, kernel_size=3,\n",
    "            bias=False, weight_quant=Int8WeightPerTensorFloat, return_quant_tensor=True)\n",
    "        self.pool = nn.MaxPool2d(2, 2)\n",
    "        self.dropout1 = nn.Dropout(0.25)\n",
    "#out_channels = 64 (chosen to increase the network's capacity to learn features).\n",
    "        self.conv2 = qnn.QuantConv2d(\n",
    "            in_channels=32, out_channels=64, kernel_size=3,\n",
    "            bias=False, weight_quant=Int8WeightPerTensorFloat, return_quant_tensor=True)\n",
    "        self.dropout2 = nn.Dropout(0.25)\n",
    "#in_channels = 64 (from conv2 output channels)\n",
    "        self.conv3 = qnn.QuantConv2d(\n",
    "            in_channels=64, out_channels=128, kernel_size=3,\n",
    "            bias=False, weight_quant=Int8WeightPerTensorFloat, return_quant_tensor=True)\n",
    "        self.dropout3 = nn.Dropout(0.4)\n",
    "#Number of channels after conv3: 128\n",
    "#Height and Width after conv3 and pool3: 1x1\n",
    "#Calculation: 128×1×1=128\n",
    "        self.fc1 = nn.Linear(128 * 1 * 1, 128)  # Adjusted based on feature map size\n",
    "        self.dropout4 = nn.Dropout(0.3)\n",
    "        self.fc2 = nn.Linear(128, NUM_CLASSES)\n",
    "\n",
    "    def forward(self, x):\n",
    "        x = self.quant_input(x)\n",
    "        x = self.pool(F.relu(self.conv1(x)))\n",
    "        x = self.dropout1(x)\n",
    "        x = self.pool(F.relu(self.conv2(x)))\n",
    "        x = self.dropout2(x)\n",
    "        x = self.pool(F.relu(self.conv3(x)))\n",
    "        x = self.dropout3(x)\n",
    "        \n",
    "        x = x.reshape(x.size(0), -1)\n",
    "        x = F.relu(self.fc1(x))\n",
    "        x = self.dropout4(x)\n",
    "        x = self.fc2(x)\n",
    "        return x\n"
   ]
  },
  {
   "cell_type": "code",
   "execution_count": 7,
   "id": "62ebed32",
   "metadata": {
    "execution": {
     "iopub.execute_input": "2024-08-01T11:58:24.012333Z",
     "iopub.status.busy": "2024-08-01T11:58:24.011889Z",
     "iopub.status.idle": "2024-08-01T12:03:11.791237Z",
     "shell.execute_reply": "2024-08-01T12:03:11.789424Z"
    },
    "papermill": {
     "duration": 287.791194,
     "end_time": "2024-08-01T12:03:11.794239",
     "exception": false,
     "start_time": "2024-08-01T11:58:24.003045",
     "status": "completed"
    },
    "tags": []
   },
   "outputs": [
    {
     "name": "stderr",
     "output_type": "stream",
     "text": [
      "/opt/conda/lib/python3.10/site-packages/torch/_tensor.py:1362: UserWarning:\n",
      "\n",
      "Named tensors and all their associated APIs are an experimental feature and subject to change. Please do not use them for anything important until they are released as stable. (Triggered internally at ../c10/core/TensorImpl.h:1900.)\n",
      "\n",
      "/opt/conda/lib/python3.10/site-packages/torch/nn/modules/linear.py:114: UserWarning:\n",
      "\n",
      "Defining your `__torch_function__` as a plain method is deprecated and will be an error in future, please define it as a classmethod. (Triggered internally at ../torch/csrc/utils/python_arg_parser.cpp:368.)\n",
      "\n"
     ]
    },
    {
     "name": "stdout",
     "output_type": "stream",
     "text": [
      "Epoch 1, Loss: 1.6797461131262401\n",
      "Validation Loss: 1.1058101877570152, Accuracy: 56.6%\n",
      "Epoch 2, Loss: 1.029278402290647\n",
      "Validation Loss: 0.7644047997891903, Accuracy: 72.1%\n",
      "Epoch 3, Loss: 0.8278967482703072\n",
      "Validation Loss: 0.7008677013218403, Accuracy: 73.2%\n",
      "Epoch 4, Loss: 0.7479606384322757\n",
      "Validation Loss: 0.6562439650297165, Accuracy: 73.8%\n",
      "Epoch 5, Loss: 0.713167889723702\n",
      "Validation Loss: 0.655422929674387, Accuracy: 74.35%\n",
      "Epoch 6, Loss: 0.6890072945564513\n",
      "Validation Loss: 0.6342431083321571, Accuracy: 75.0%\n",
      "Epoch 7, Loss: 0.6602090313321068\n",
      "Validation Loss: 0.6039786171168089, Accuracy: 76.4%\n",
      "Epoch 8, Loss: 0.6475076292242322\n",
      "Validation Loss: 0.585518604144454, Accuracy: 76.7%\n",
      "Epoch 9, Loss: 0.6329640135878608\n",
      "Validation Loss: 0.5748233031481504, Accuracy: 77.65%\n",
      "Epoch 10, Loss: 0.6137846859674605\n",
      "Validation Loss: 0.5723221153020859, Accuracy: 78.5%\n",
      "Epoch 11, Loss: 0.6015309648854392\n",
      "Validation Loss: 0.5631237719208002, Accuracy: 78.1%\n",
      "Epoch 12, Loss: 0.5846324047398945\n",
      "Validation Loss: 0.5533820744603872, Accuracy: 79.35%\n",
      "Epoch 13, Loss: 0.5787519793661814\n",
      "Validation Loss: 0.5454967264086008, Accuracy: 79.15%\n",
      "Epoch 14, Loss: 0.5777598288324144\n",
      "Validation Loss: 0.556535454466939, Accuracy: 79.5%\n",
      "Epoch 15, Loss: 0.5565237559023357\n",
      "Validation Loss: 0.537345539778471, Accuracy: 79.55%\n",
      "Epoch 16, Loss: 0.5507562188875108\n",
      "Validation Loss: 0.5217196941375732, Accuracy: 80.1%\n",
      "Epoch 17, Loss: 0.5387947048459735\n",
      "Validation Loss: 0.5195483602583408, Accuracy: 80.0%\n",
      "Epoch 18, Loss: 0.5227716763814291\n",
      "Validation Loss: 0.5230996031314135, Accuracy: 80.2%\n",
      "Epoch 19, Loss: 0.5190911633627755\n",
      "Validation Loss: 0.49205703660845757, Accuracy: 81.5%\n",
      "Epoch 20, Loss: 0.5124098994429149\n",
      "Validation Loss: 0.48601975478231907, Accuracy: 81.35%\n",
      "Epoch 21, Loss: 0.49885400609364583\n",
      "Validation Loss: 0.49440042302012444, Accuracy: 81.15%\n",
      "Epoch 22, Loss: 0.494355597193279\n",
      "Validation Loss: 0.49224171601235867, Accuracy: 80.75%\n",
      "Epoch 23, Loss: 0.4956024776375483\n",
      "Validation Loss: 0.4833101537078619, Accuracy: 81.85%\n",
      "Epoch 24, Loss: 0.475907548079415\n",
      "Validation Loss: 0.4751135967671871, Accuracy: 82.05%\n",
      "Epoch 25, Loss: 0.4699101348718007\n",
      "Validation Loss: 0.4661357644945383, Accuracy: 82.45%\n",
      "Epoch 26, Loss: 0.47065018046469914\n",
      "Validation Loss: 0.4687409847974777, Accuracy: 82.15%\n",
      "Epoch 27, Loss: 0.4651123550203111\n",
      "Validation Loss: 0.4493313543498516, Accuracy: 82.45%\n",
      "Epoch 28, Loss: 0.45578144987424213\n",
      "Validation Loss: 0.4690203797072172, Accuracy: 82.5%\n",
      "Epoch 29, Loss: 0.4412674146985251\n",
      "Validation Loss: 0.44032504223287106, Accuracy: 83.35%\n",
      "Epoch 30, Loss: 0.4494488371743096\n",
      "Validation Loss: 0.45605465210974216, Accuracy: 82.15%\n",
      "Epoch 31, Loss: 0.4366871312497154\n",
      "Validation Loss: 0.4455160554498434, Accuracy: 82.85%\n",
      "Epoch 32, Loss: 0.4311077500146533\n",
      "Validation Loss: 0.4450885094702244, Accuracy: 82.5%\n",
      "Epoch 33, Loss: 0.4183054036564297\n",
      "Validation Loss: 0.4413673933595419, Accuracy: 83.5%\n",
      "Epoch 34, Loss: 0.4192595486603086\n",
      "Validation Loss: 0.42981296591460705, Accuracy: 83.2%\n",
      "Epoch 35, Loss: 0.4228553838200039\n",
      "Validation Loss: 0.43347909674048424, Accuracy: 83.5%\n",
      "Epoch 36, Loss: 0.4086032382079533\n",
      "Validation Loss: 0.43841045536100864, Accuracy: 84.05%\n",
      "Epoch 37, Loss: 0.4068176812595791\n",
      "Validation Loss: 0.426499355584383, Accuracy: 83.95%\n",
      "Epoch 38, Loss: 0.39159829039422295\n",
      "Validation Loss: 0.4161802623420954, Accuracy: 84.25%\n",
      "Epoch 39, Loss: 0.40812657749842085\n",
      "Validation Loss: 0.41717779636383057, Accuracy: 84.4%\n",
      "Epoch 40, Loss: 0.3955318182706833\n",
      "Validation Loss: 0.4137508012354374, Accuracy: 83.95%\n",
      "Epoch 41, Loss: 0.38941222050833324\n",
      "Validation Loss: 0.4245386868715286, Accuracy: 83.8%\n",
      "Epoch 42, Loss: 0.38237452861808596\n",
      "Validation Loss: 0.41360535845160484, Accuracy: 84.35%\n",
      "Epoch 43, Loss: 0.3739837242497338\n",
      "Validation Loss: 0.4186793081462383, Accuracy: 84.6%\n",
      "Epoch 44, Loss: 0.37512022493377567\n",
      "Validation Loss: 0.4105302728712559, Accuracy: 84.35%\n",
      "Epoch 45, Loss: 0.3716748257478078\n",
      "Validation Loss: 0.4162724893540144, Accuracy: 84.7%\n",
      "Epoch 46, Loss: 0.3670272673406298\n",
      "Validation Loss: 0.4174707569181919, Accuracy: 84.25%\n",
      "Epoch 47, Loss: 0.3598718137022049\n",
      "Validation Loss: 0.39882088266313076, Accuracy: 84.6%\n",
      "Epoch 48, Loss: 0.3550220761034224\n",
      "Validation Loss: 0.3990351390093565, Accuracy: 84.95%\n",
      "Epoch 49, Loss: 0.3540419311750503\n",
      "Validation Loss: 0.43141498789191246, Accuracy: 83.9%\n",
      "Epoch 50, Loss: 0.36078974036943345\n",
      "Validation Loss: 0.40001725777983665, Accuracy: 84.75%\n"
     ]
    }
   ],
   "source": [
    "model = QuantizedCNN()\n",
    "criterion = nn.CrossEntropyLoss()\n",
    "optimizer = optim.Adam(model.parameters(), lr=0.001)\n",
    "\n",
    "def train_model(model, train_loader, val_loader, criterion, optimizer, epochs=NO_EPOCHS):\n",
    "    for epoch in range(epochs):\n",
    "        model.train()\n",
    "        running_loss = 0.0\n",
    "        for i, (inputs, labels) in enumerate(train_loader):\n",
    "            optimizer.zero_grad()\n",
    "            outputs = model(inputs)\n",
    "            loss = criterion(outputs, torch.max(labels, 1)[1])\n",
    "            loss.backward()\n",
    "            optimizer.step()\n",
    "            running_loss += loss.item()\n",
    "        print(f'Epoch {epoch + 1}, Loss: {running_loss / len(train_loader)}')\n",
    "\n",
    "        model.eval()\n",
    "        val_loss = 0.0\n",
    "        correct = 0\n",
    "        total = 0\n",
    "        with torch.no_grad():\n",
    "            for inputs, labels in val_loader:\n",
    "                outputs = model(inputs)\n",
    "                loss = criterion(outputs, torch.max(labels, 1)[1])\n",
    "                val_loss += loss.item()\n",
    "                _, predicted = torch.max(outputs.data, 1)\n",
    "                total += labels.size(0)\n",
    "                correct += (predicted == torch.max(labels, 1)[1]).sum().item()\n",
    "        print(f'Validation Loss: {val_loss / len(val_loader)}, Accuracy: {100 * correct / total}%')\n",
    "\n",
    "train_model(model, train_loader, val_loader, criterion, optimizer)\n"
   ]
  },
  {
   "cell_type": "code",
   "execution_count": 8,
   "id": "ac65d806",
   "metadata": {
    "execution": {
     "iopub.execute_input": "2024-08-01T12:03:11.829874Z",
     "iopub.status.busy": "2024-08-01T12:03:11.828688Z",
     "iopub.status.idle": "2024-08-01T12:03:29.474668Z",
     "shell.execute_reply": "2024-08-01T12:03:29.472079Z"
    },
    "papermill": {
     "duration": 17.666209,
     "end_time": "2024-08-01T12:03:29.477621",
     "exception": false,
     "start_time": "2024-08-01T12:03:11.811412",
     "status": "completed"
    },
    "tags": []
   },
   "outputs": [
    {
     "name": "stdout",
     "output_type": "stream",
     "text": [
      "Test Accuracy: 86.02833333333334%\n"
     ]
    }
   ],
   "source": [
    "def test_model(model, test_loader):\n",
    "    model.eval()\n",
    "    correct = 0\n",
    "    total = 0\n",
    "    with torch.no_grad():\n",
    "        for inputs, labels in test_loader:\n",
    "            outputs = model(inputs)\n",
    "            _, predicted = torch.max(outputs.data, 1)\n",
    "            total += labels.size(0)\n",
    "            correct += (predicted == torch.max(labels, 1)[1]).sum().item()\n",
    "    print(f'Test Accuracy: {100 * correct / total}%')\n",
    "\n",
    "test_model(model, test_loader)\n"
   ]
  },
  {
   "cell_type": "code",
   "execution_count": 9,
   "id": "7efa0b11",
   "metadata": {
    "execution": {
     "iopub.execute_input": "2024-08-01T12:03:29.512436Z",
     "iopub.status.busy": "2024-08-01T12:03:29.512003Z",
     "iopub.status.idle": "2024-08-01T12:03:29.858191Z",
     "shell.execute_reply": "2024-08-01T12:03:29.856928Z"
    },
    "papermill": {
     "duration": 0.367065,
     "end_time": "2024-08-01T12:03:29.860822",
     "exception": false,
     "start_time": "2024-08-01T12:03:29.493757",
     "status": "completed"
    },
    "tags": []
   },
   "outputs": [
    {
     "data": {
      "image/png": "[encoded data removed]",
      "text/plain": [
       "<Figure size 640x480 with 1 Axes>"
      ]
     },
     "metadata": {},
     "output_type": "display_data"
    }
   ],
   "source": [
    "import matplotlib.pyplot as plt\n",
    "\n",
    "class_labels = [\n",
    "    'T-shirt/top', 'Trouser', 'Pullover', 'Dress', 'Coat',\n",
    "    'Sandal', 'Shirt', 'Sneaker', 'Bag', 'Ankle boot'\n",
    "]\n",
    "\n",
    "def show_prediction(model, test_dataset, index):\n",
    "    model.eval()\n",
    "    with torch.no_grad():\n",
    "        image, label = test_dataset[index]\n",
    "        image = image.unsqueeze(0)  # Add batch dimension\n",
    "\n",
    "        output = model(image)\n",
    "        _, predicted = torch.max(output, 1)\n",
    "\n",
    "        predicted_label = class_labels[predicted.item()]\n",
    "        actual_label = class_labels[torch.argmax(label).item()]\n",
    "\n",
    "        plt.imshow(image.squeeze(), cmap=\"gray\")\n",
    "        plt.title(f'Actual: {actual_label}, Predicted: {predicted_label}')\n",
    "        plt.show()\n",
    "\n",
    "# Example usage\n",
    "index=11\n",
    "show_prediction(model, test_dataset, index)\n"
   ]
  },
  {
   "cell_type": "code",
   "execution_count": 10,
   "id": "377a2289",
   "metadata": {
    "execution": {
     "iopub.execute_input": "2024-08-01T12:03:29.895746Z",
     "iopub.status.busy": "2024-08-01T12:03:29.895350Z",
     "iopub.status.idle": "2024-08-01T12:03:47.660800Z",
     "shell.execute_reply": "2024-08-01T12:03:47.659481Z"
    },
    "papermill": {
     "duration": 17.786234,
     "end_time": "2024-08-01T12:03:47.663715",
     "exception": false,
     "start_time": "2024-08-01T12:03:29.877481",
     "status": "completed"
    },
    "tags": []
   },
   "outputs": [
    {
     "data": {
      "image/png": "[encoded data removed]",
      "text/plain": [
       "<Figure size 640x480 with 2 Axes>"
      ]
     },
     "metadata": {},
     "output_type": "display_data"
    }
   ],
   "source": [
    "def predict_test_set(model, test_loader):\n",
    "    model.eval()\n",
    "    all_preds = []\n",
    "    all_labels = []\n",
    "    with torch.no_grad():\n",
    "        for inputs, labels in test_loader:\n",
    "            outputs = model(inputs)\n",
    "            _, predicted = torch.max(outputs.data, 1)\n",
    "            all_preds.extend(predicted.cpu().numpy())\n",
    "            all_labels.extend(torch.max(labels, 1)[1].cpu().numpy())\n",
    "    return np.array(all_labels), np.array(all_preds)\n",
    "\n",
    "y_true, y_pred = predict_test_set(model, test_loader)\n",
    "\n",
    "# Compute the confusion matrix\n",
    "cm = confusion_matrix(y_true, y_pred)\n",
    "\n",
    "# Display the confusion matrix\n",
    "disp = ConfusionMatrixDisplay(confusion_matrix=cm, display_labels=range(NUM_CLASSES))\n",
    "disp.plot(cmap=plt.cm.Reds)\n",
    "plt.show()\n"
   ]
  }
 ],
 "metadata": {
  "kaggle": {
   "accelerator": "none",
   "dataSources": [
    {
     "datasetId": 2243,
     "sourceId": 9243,
     "sourceType": "datasetVersion"
    }
   ],
   "dockerImageVersionId": 30746,
   "isGpuEnabled": false,
   "isInternetEnabled": true,
   "language": "python",
   "sourceType": "notebook"
  },
  "kernelspec": {
   "display_name": "Python 3",
   "language": "python",
   "name": "python3"
  },
  "language_info": {
   "codemirror_mode": {
    "name": "ipython",
    "version": 3
   },
   "file_extension": ".py",
   "mimetype": "text/x-python",
   "name": "python",
   "nbconvert_exporter": "python",
   "pygments_lexer": "ipython3",
   "version": "3.10.13"
  },
  "papermill": {
   "default_parameters": {},
   "duration": 366.21671,
   "end_time": "2024-08-01T12:03:49.308936",
   "environment_variables": {},
   "exception": null,
   "input_path": "__notebook__.ipynb",
   "output_path": "__notebook__.ipynb",
   "parameters": {},
   "start_time": "2024-08-01T11:57:43.092226",
   "version": "2.5.0"
  }
 },
 "nbformat": 4,
 "nbformat_minor": 5
}
